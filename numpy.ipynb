{
 "cells": [
  {
   "cell_type": "code",
   "execution_count": 1,
   "id": "b78d47c6",
   "metadata": {},
   "outputs": [],
   "source": [
    "import numpy as np"
   ]
  },
  {
   "cell_type": "code",
   "execution_count": 4,
   "id": "77f6106d",
   "metadata": {},
   "outputs": [
    {
     "name": "stdout",
     "output_type": "stream",
     "text": [
      "[1 2 3 4 5 6]\n"
     ]
    }
   ],
   "source": [
    "OneDarray = np.array([1, 2, 3, 4, 5, 6])     # مصفوفه ذو بعد واحد\n",
    "print(OneDarray)"
   ]
  },
  {
   "cell_type": "code",
   "execution_count": 6,
   "id": "e194b766",
   "metadata": {},
   "outputs": [
    {
     "name": "stdout",
     "output_type": "stream",
     "text": [
      "1\n"
     ]
    }
   ],
   "source": [
    "print(OneDarray.ndim)  # معرفه ابعاد المصفوفه"
   ]
  },
  {
   "cell_type": "code",
   "execution_count": 7,
   "id": "95a77ef2",
   "metadata": {},
   "outputs": [
    {
     "name": "stdout",
     "output_type": "stream",
     "text": [
      "[[1 2 3 4]\n",
      " [5 6 7 8]]\n"
     ]
    }
   ],
   "source": [
    "TwoDarray =np.array([[1, 2, 3, 4], [5, 6, 7, 8]])    #مصفوفه ذو بعدين \n",
    "print(TwoDarray)"
   ]
  },
  {
   "cell_type": "code",
   "execution_count": 8,
   "id": "1e87c10f",
   "metadata": {},
   "outputs": [
    {
     "name": "stdout",
     "output_type": "stream",
     "text": [
      "2\n"
     ]
    }
   ],
   "source": [
    "print(TwoDarray.ndim)   # معرفه ابعاد المصفوفه"
   ]
  },
  {
   "cell_type": "code",
   "execution_count": 11,
   "id": "32759b76",
   "metadata": {},
   "outputs": [
    {
     "name": "stdout",
     "output_type": "stream",
     "text": [
      "[[[ 1  2  3]\n",
      "  [-1 -2 -3]]\n",
      "\n",
      " [[ 4  5  6]\n",
      "  [-4 -5 -6]]]\n"
     ]
    }
   ],
   "source": [
    "ThreeDarray = np.array([[[1, 2, 3], [-1, -2, -3]], [[4, 5, 6], [-4, -5, -6]]]) #مصفوفه ذو ثلاث ابعاد \n",
    "print(ThreeDarray)"
   ]
  },
  {
   "cell_type": "code",
   "execution_count": 10,
   "id": "dde34112",
   "metadata": {},
   "outputs": [
    {
     "name": "stdout",
     "output_type": "stream",
     "text": [
      "3\n"
     ]
    }
   ],
   "source": [
    "print(ThreeDarray.ndim)   # معرفه ابعاد المصفوفه"
   ]
  },
  {
   "cell_type": "code",
   "execution_count": 12,
   "id": "cee38d51",
   "metadata": {},
   "outputs": [],
   "source": [
    "# indexing \n",
    "#examples\n",
    "# find num 5 in TwoDarray or ThreeDarray"
   ]
  },
  {
   "cell_type": "code",
   "execution_count": 13,
   "id": "98bb6cb6",
   "metadata": {},
   "outputs": [
    {
     "name": "stdout",
     "output_type": "stream",
     "text": [
      "[5 6 7 8]\n"
     ]
    }
   ],
   "source": [
    "#in TwoDarray\n",
    "print(TwoDarray[1])"
   ]
  },
  {
   "cell_type": "code",
   "execution_count": 14,
   "id": "bfc27b42",
   "metadata": {},
   "outputs": [
    {
     "name": "stdout",
     "output_type": "stream",
     "text": [
      "5\n"
     ]
    }
   ],
   "source": [
    "print(TwoDarray[1, 0])"
   ]
  },
  {
   "cell_type": "code",
   "execution_count": 15,
   "id": "cfae8024",
   "metadata": {},
   "outputs": [
    {
     "name": "stdout",
     "output_type": "stream",
     "text": [
      "[[ 4  5  6]\n",
      " [-4 -5 -6]]\n"
     ]
    }
   ],
   "source": [
    "#in ThreeDarray \n",
    "print(ThreeDarray[1])"
   ]
  },
  {
   "cell_type": "code",
   "execution_count": 16,
   "id": "41596219",
   "metadata": {},
   "outputs": [
    {
     "name": "stdout",
     "output_type": "stream",
     "text": [
      "[4 5 6]\n"
     ]
    }
   ],
   "source": [
    "print(ThreeDarray[1, 0])"
   ]
  },
  {
   "cell_type": "code",
   "execution_count": 17,
   "id": "b05b9a2a",
   "metadata": {},
   "outputs": [
    {
     "name": "stdout",
     "output_type": "stream",
     "text": [
      "5\n"
     ]
    }
   ],
   "source": [
    "print(ThreeDarray[1, 0, 1])"
   ]
  },
  {
   "cell_type": "code",
   "execution_count": 18,
   "id": "0d3111d3",
   "metadata": {},
   "outputs": [
    {
     "name": "stdout",
     "output_type": "stream",
     "text": [
      "(2, 4)\n"
     ]
    }
   ],
   "source": [
    "# shape the array\n",
    "print(TwoDarray.shape)"
   ]
  },
  {
   "cell_type": "code",
   "execution_count": 19,
   "id": "c0f8a7f5",
   "metadata": {},
   "outputs": [
    {
     "name": "stdout",
     "output_type": "stream",
     "text": [
      "(2, 2, 3)\n"
     ]
    }
   ],
   "source": [
    "# shape the array\n",
    "print(ThreeDarray.shape)"
   ]
  },
  {
   "cell_type": "code",
   "execution_count": 21,
   "id": "8ba13fbb",
   "metadata": {},
   "outputs": [
    {
     "name": "stdout",
     "output_type": "stream",
     "text": [
      "[1 2 3 4]\n",
      "[5 6 7 8]\n"
     ]
    }
   ],
   "source": [
    "#iterating over numpy arrays\n",
    "for i in TwoDarray:\n",
    "    print(i)"
   ]
  },
  {
   "cell_type": "code",
   "execution_count": 22,
   "id": "3209f459",
   "metadata": {},
   "outputs": [
    {
     "name": "stdout",
     "output_type": "stream",
     "text": [
      "1\n",
      "2\n",
      "3\n",
      "4\n",
      "5\n",
      "6\n",
      "7\n",
      "8\n"
     ]
    }
   ],
   "source": [
    "for i in TwoDarray:\n",
    "    for j in i:\n",
    "        print(j)"
   ]
  },
  {
   "cell_type": "code",
   "execution_count": 23,
   "id": "ecf6ee35",
   "metadata": {},
   "outputs": [
    {
     "name": "stdout",
     "output_type": "stream",
     "text": [
      "[[ 1  2  3]\n",
      " [-1 -2 -3]]\n",
      "[[ 4  5  6]\n",
      " [-4 -5 -6]]\n"
     ]
    }
   ],
   "source": [
    "for i in ThreeDarray:\n",
    "    print(i)"
   ]
  },
  {
   "cell_type": "code",
   "execution_count": 24,
   "id": "2f73da8a",
   "metadata": {},
   "outputs": [
    {
     "name": "stdout",
     "output_type": "stream",
     "text": [
      "[1 2 3]\n",
      "[-1 -2 -3]\n",
      "[4 5 6]\n",
      "[-4 -5 -6]\n"
     ]
    }
   ],
   "source": [
    "for i in ThreeDarray:\n",
    "    for j in i:\n",
    "        print(j)"
   ]
  },
  {
   "cell_type": "code",
   "execution_count": 25,
   "id": "2d92a9e5",
   "metadata": {},
   "outputs": [
    {
     "name": "stdout",
     "output_type": "stream",
     "text": [
      "1\n",
      "2\n",
      "3\n",
      "-1\n",
      "-2\n",
      "-3\n",
      "4\n",
      "5\n",
      "6\n",
      "-4\n",
      "-5\n",
      "-6\n"
     ]
    }
   ],
   "source": [
    "for i in ThreeDarray:    #outermost of loop\n",
    "    for j in i:          #second for loop\n",
    "        for k in j:      #third for loop\n",
    "            print(k)"
   ]
  },
  {
   "cell_type": "code",
   "execution_count": 26,
   "id": "c4dc32f2",
   "metadata": {},
   "outputs": [
    {
     "name": "stdout",
     "output_type": "stream",
     "text": [
      "[0. 0. 0. 0. 0. 0. 0. 0. 0. 0.]\n"
     ]
    }
   ],
   "source": [
    "#zeros array\n",
    "\n",
    "ZerosArray = np.zeros(10)  #result is float         #10 >>>>>>> Number of items within the matrix\n",
    "print(ZerosArray)"
   ]
  },
  {
   "cell_type": "code",
   "execution_count": 27,
   "id": "2b60fe33",
   "metadata": {},
   "outputs": [
    {
     "name": "stdout",
     "output_type": "stream",
     "text": [
      "[0 0 0 0 0 0 0 0 0 0]\n"
     ]
    }
   ],
   "source": [
    "# to convert an array of float into integer\n",
    "ZerosArray = ZerosArray.astype(int)\n",
    "print(ZerosArray)"
   ]
  },
  {
   "cell_type": "code",
   "execution_count": 28,
   "id": "22beef1d",
   "metadata": {},
   "outputs": [
    {
     "name": "stdout",
     "output_type": "stream",
     "text": [
      "[1. 1. 1. 1. 1. 1. 1. 1. 1. 1.]\n"
     ]
    }
   ],
   "source": [
    "#ones array\n",
    "ones_array = np.ones(10)    #10 >>>>>>> Number of items within the matrix\n",
    "print(ones_array)"
   ]
  },
  {
   "cell_type": "code",
   "execution_count": 29,
   "id": "16f7dd91",
   "metadata": {},
   "outputs": [
    {
     "name": "stdout",
     "output_type": "stream",
     "text": [
      "[1 1 1 1 1 1 1 1 1 1]\n"
     ]
    }
   ],
   "source": [
    "# to convert an array of float into integer\n",
    "ones_array = ones_array.astype(int)\n",
    "print(ones_array)"
   ]
  },
  {
   "cell_type": "code",
   "execution_count": 30,
   "id": "a91c5255",
   "metadata": {},
   "outputs": [
    {
     "name": "stdout",
     "output_type": "stream",
     "text": [
      "[5 5 5 5 5 5 5 5 5 5]\n"
     ]
    }
   ],
   "source": [
    "#full array\n",
    "PreFillArray = np.full(10,5)  #10 >>>>>>> Number of items within the matrix\n",
    "print(PreFillArray)           "
   ]
  },
  {
   "cell_type": "code",
   "execution_count": 38,
   "id": "d7b8b1e3",
   "metadata": {},
   "outputs": [
    {
     "name": "stdout",
     "output_type": "stream",
     "text": [
      "[[1 2 3]\n",
      " [4 5 6]]\n",
      "##################################################\n",
      "[[3 4 5]\n",
      " [6 7 8]]\n",
      "##################################################\n",
      "[[-1  0  1]\n",
      " [ 2  3  4]]\n"
     ]
    }
   ],
   "source": [
    "# Adding or subtracting a scaler in matrix \n",
    "matrix = np.array([[1, 2, 3], [4, 5, 6]])\n",
    "print(matrix)\n",
    "\n",
    "print('#' * 50)\n",
    "\n",
    "print(matrix + 2)    # Adding \n",
    "\n",
    "print('#' * 50)\n",
    "\n",
    "print(matrix - 2)"
   ]
  },
  {
   "cell_type": "code",
   "execution_count": 39,
   "id": "a4eab2d6",
   "metadata": {},
   "outputs": [
    {
     "name": "stdout",
     "output_type": "stream",
     "text": [
      "[[1, 2, 3], [4, 5, 6]]\n",
      "##################################################\n"
     ]
    },
    {
     "ename": "TypeError",
     "evalue": "can only concatenate list (not \"int\") to list",
     "output_type": "error",
     "traceback": [
      "\u001b[1;31m---------------------------------------------------------------------------\u001b[0m",
      "\u001b[1;31mTypeError\u001b[0m                                 Traceback (most recent call last)",
      "\u001b[1;32mC:\\Users\\LAPCOM~1\\AppData\\Local\\Temp/ipykernel_10064/2071107328.py\u001b[0m in \u001b[0;36m<module>\u001b[1;34m\u001b[0m\n\u001b[0;32m      6\u001b[0m \u001b[0mprint\u001b[0m\u001b[1;33m(\u001b[0m\u001b[1;34m'#'\u001b[0m \u001b[1;33m*\u001b[0m \u001b[1;36m50\u001b[0m\u001b[1;33m)\u001b[0m\u001b[1;33m\u001b[0m\u001b[1;33m\u001b[0m\u001b[0m\n\u001b[0;32m      7\u001b[0m \u001b[1;33m\u001b[0m\u001b[0m\n\u001b[1;32m----> 8\u001b[1;33m \u001b[0mprint\u001b[0m\u001b[1;33m(\u001b[0m\u001b[0mpython_list\u001b[0m \u001b[1;33m+\u001b[0m \u001b[1;36m2\u001b[0m\u001b[1;33m)\u001b[0m      \u001b[1;31m#>>>>>>>>>>>>>>> Error\u001b[0m\u001b[1;33m\u001b[0m\u001b[1;33m\u001b[0m\u001b[0m\n\u001b[0m\u001b[0;32m      9\u001b[0m \u001b[1;33m\u001b[0m\u001b[0m\n\u001b[0;32m     10\u001b[0m \u001b[0mprint\u001b[0m\u001b[1;33m(\u001b[0m\u001b[1;34m'#'\u001b[0m \u001b[1;33m*\u001b[0m \u001b[1;36m50\u001b[0m\u001b[1;33m)\u001b[0m\u001b[1;33m\u001b[0m\u001b[1;33m\u001b[0m\u001b[0m\n",
      "\u001b[1;31mTypeError\u001b[0m: can only concatenate list (not \"int\") to list"
     ]
    }
   ],
   "source": [
    "# Adding or subtracting a scaler in python list  give error\n",
    "\n",
    "python_list = [[1, 2, 3], [4, 5, 6]]    \n",
    "print(python_list)\n",
    "\n",
    "print('#' * 50)\n",
    "\n",
    "print(python_list + 2)      #>>>>>>>>>>>>>>> Error\n",
    "\n",
    "print('#' * 50)\n",
    "\n",
    "print(python_list - 2)      #>>>>>>>>>>>>>>> Error"
   ]
  },
  {
   "cell_type": "code",
   "execution_count": 40,
   "id": "0f5327ba",
   "metadata": {},
   "outputs": [
    {
     "name": "stdout",
     "output_type": "stream",
     "text": [
      "[[ 2  4  6]\n",
      " [ 8 10 12]]\n"
     ]
    }
   ],
   "source": [
    "#multiplying by a scaler in matrix\n",
    "print(matrix * 2)"
   ]
  },
  {
   "cell_type": "code",
   "execution_count": 41,
   "id": "4837bb0b",
   "metadata": {},
   "outputs": [
    {
     "name": "stdout",
     "output_type": "stream",
     "text": [
      "[[1, 2, 3], [4, 5, 6], [1, 2, 3], [4, 5, 6]]\n"
     ]
    }
   ],
   "source": [
    "#multiplying by a scaler in python list \n",
    "print(python_list * 2)           "
   ]
  },
  {
   "cell_type": "code",
   "execution_count": 42,
   "id": "87704693",
   "metadata": {},
   "outputs": [
    {
     "name": "stdout",
     "output_type": "stream",
     "text": [
      "[[0.5 1.  1.5]\n",
      " [2.  2.5 3. ]]\n"
     ]
    }
   ],
   "source": [
    "#Dividing by a scaler in matrix\n",
    "print(matrix / 2)   #float"
   ]
  },
  {
   "cell_type": "code",
   "execution_count": 43,
   "id": "2f65b01f",
   "metadata": {},
   "outputs": [
    {
     "name": "stdout",
     "output_type": "stream",
     "text": [
      "[[0 1 1]\n",
      " [2 2 3]]\n"
     ]
    }
   ],
   "source": [
    "print(matrix // 2)  # int"
   ]
  },
  {
   "cell_type": "code",
   "execution_count": 44,
   "id": "cd4a9f1c",
   "metadata": {},
   "outputs": [
    {
     "ename": "TypeError",
     "evalue": "unsupported operand type(s) for /: 'list' and 'int'",
     "output_type": "error",
     "traceback": [
      "\u001b[1;31m---------------------------------------------------------------------------\u001b[0m",
      "\u001b[1;31mTypeError\u001b[0m                                 Traceback (most recent call last)",
      "\u001b[1;32mC:\\Users\\LAPCOM~1\\AppData\\Local\\Temp/ipykernel_10064/3505193567.py\u001b[0m in \u001b[0;36m<module>\u001b[1;34m\u001b[0m\n\u001b[0;32m      1\u001b[0m \u001b[1;31m#Dividing by a scaler in python list\u001b[0m\u001b[1;33m\u001b[0m\u001b[1;33m\u001b[0m\u001b[0m\n\u001b[1;32m----> 2\u001b[1;33m \u001b[0mprint\u001b[0m\u001b[1;33m(\u001b[0m\u001b[0mpython_list\u001b[0m \u001b[1;33m/\u001b[0m \u001b[1;36m2\u001b[0m\u001b[1;33m)\u001b[0m   \u001b[1;31m# error\u001b[0m\u001b[1;33m\u001b[0m\u001b[1;33m\u001b[0m\u001b[0m\n\u001b[0m",
      "\u001b[1;31mTypeError\u001b[0m: unsupported operand type(s) for /: 'list' and 'int'"
     ]
    }
   ],
   "source": [
    "#Dividing by a scaler in python list \n",
    "print(python_list / 2)   # error"
   ]
  },
  {
   "cell_type": "code",
   "execution_count": 45,
   "id": "39768e3b",
   "metadata": {},
   "outputs": [
    {
     "name": "stdout",
     "output_type": "stream",
     "text": [
      "[[ 1  4  9]\n",
      " [16 25 36]]\n"
     ]
    }
   ],
   "source": [
    "# raise to a power \n",
    "print(matrix ** 2)"
   ]
  },
  {
   "cell_type": "code",
   "execution_count": 46,
   "id": "4fc1f80d",
   "metadata": {},
   "outputs": [
    {
     "ename": "TypeError",
     "evalue": "unsupported operand type(s) for ** or pow(): 'list' and 'int'",
     "output_type": "error",
     "traceback": [
      "\u001b[1;31m---------------------------------------------------------------------------\u001b[0m",
      "\u001b[1;31mTypeError\u001b[0m                                 Traceback (most recent call last)",
      "\u001b[1;32mC:\\Users\\LAPCOM~1\\AppData\\Local\\Temp/ipykernel_10064/2914462080.py\u001b[0m in \u001b[0;36m<module>\u001b[1;34m\u001b[0m\n\u001b[1;32m----> 1\u001b[1;33m \u001b[0mprint\u001b[0m\u001b[1;33m(\u001b[0m\u001b[0mpython_list\u001b[0m\u001b[1;33m**\u001b[0m \u001b[1;36m2\u001b[0m\u001b[1;33m)\u001b[0m      \u001b[1;31m#error\u001b[0m\u001b[1;33m\u001b[0m\u001b[1;33m\u001b[0m\u001b[0m\n\u001b[0m",
      "\u001b[1;31mTypeError\u001b[0m: unsupported operand type(s) for ** or pow(): 'list' and 'int'"
     ]
    }
   ],
   "source": [
    "print(python_list** 2)      #error"
   ]
  },
  {
   "cell_type": "code",
   "execution_count": 50,
   "id": "b58c8fb4",
   "metadata": {},
   "outputs": [
    {
     "name": "stdout",
     "output_type": "stream",
     "text": [
      "[[1 4]\n",
      " [2 5]\n",
      " [3 6]]\n"
     ]
    }
   ],
   "source": [
    "#Transpose the matrix\n",
    "print(matrix.T)"
   ]
  },
  {
   "cell_type": "code",
   "execution_count": 48,
   "id": "d0f6d644",
   "metadata": {},
   "outputs": [
    {
     "ename": "AttributeError",
     "evalue": "'list' object has no attribute 'T'",
     "output_type": "error",
     "traceback": [
      "\u001b[1;31m---------------------------------------------------------------------------\u001b[0m",
      "\u001b[1;31mAttributeError\u001b[0m                            Traceback (most recent call last)",
      "\u001b[1;32mC:\\Users\\LAPCOM~1\\AppData\\Local\\Temp/ipykernel_10064/1344976281.py\u001b[0m in \u001b[0;36m<module>\u001b[1;34m\u001b[0m\n\u001b[0;32m      1\u001b[0m \u001b[1;31m#Transpose python list\u001b[0m\u001b[1;33m\u001b[0m\u001b[1;33m\u001b[0m\u001b[0m\n\u001b[1;32m----> 2\u001b[1;33m \u001b[0mprint\u001b[0m\u001b[1;33m(\u001b[0m\u001b[0mpython_list\u001b[0m\u001b[1;33m.\u001b[0m\u001b[0mT\u001b[0m\u001b[1;33m)\u001b[0m     \u001b[1;31m#error\u001b[0m\u001b[1;33m\u001b[0m\u001b[1;33m\u001b[0m\u001b[0m\n\u001b[0m",
      "\u001b[1;31mAttributeError\u001b[0m: 'list' object has no attribute 'T'"
     ]
    }
   ],
   "source": [
    "#Transpose python list\n",
    "print(python_list.T)     #error"
   ]
  },
  {
   "cell_type": "code",
   "execution_count": 54,
   "id": "856f8468",
   "metadata": {},
   "outputs": [
    {
     "name": "stdout",
     "output_type": "stream",
     "text": [
      "[[1 2 3]\n",
      " [4 5 6]]\n"
     ]
    }
   ],
   "source": [
    "# element wise addtion \n",
    "matrix1 = np.array([[1, 2, 3], [4, 5, 6]])\n",
    "print(matrix1)"
   ]
  },
  {
   "cell_type": "code",
   "execution_count": 55,
   "id": "ef8dab59",
   "metadata": {},
   "outputs": [
    {
     "name": "stdout",
     "output_type": "stream",
     "text": [
      "[[-1 -2 -3]\n",
      " [-4 -5 -6]]\n"
     ]
    }
   ],
   "source": [
    "matrix2 = np.array([[-1, -2, -3], [-4, -5, -6]])\n",
    "print(matrix2)"
   ]
  },
  {
   "cell_type": "code",
   "execution_count": 56,
   "id": "f725ccba",
   "metadata": {},
   "outputs": [
    {
     "name": "stdout",
     "output_type": "stream",
     "text": [
      "[[0 0 0]\n",
      " [0 0 0]]\n"
     ]
    }
   ],
   "source": [
    "print(matrix1 + matrix2)"
   ]
  },
  {
   "cell_type": "code",
   "execution_count": 58,
   "id": "fdd1b2ee",
   "metadata": {},
   "outputs": [
    {
     "name": "stdout",
     "output_type": "stream",
     "text": [
      "[[1, 2, 3], [4, 5, 6], [-1, -2, -3], [-4, -5, -6]]\n"
     ]
    }
   ],
   "source": [
    "pythonlist1 = [[1, 2, 3], [4, 5, 6]]\n",
    "pythonlist2 = [[-1, -2, -3], [-4, -5, -6]]\n",
    "print(pythonlist1 + pythonlist2)   # concatination "
   ]
  },
  {
   "cell_type": "code",
   "execution_count": 59,
   "id": "2292c71c",
   "metadata": {},
   "outputs": [
    {
     "name": "stdout",
     "output_type": "stream",
     "text": [
      "[[ 2  4  6]\n",
      " [ 8 10 12]]\n"
     ]
    }
   ],
   "source": [
    "# element wise subtraction\n",
    "print(matrix1 - matrix2)"
   ]
  },
  {
   "cell_type": "code",
   "execution_count": 60,
   "id": "96d63d33",
   "metadata": {},
   "outputs": [
    {
     "ename": "TypeError",
     "evalue": "unsupported operand type(s) for -: 'list' and 'list'",
     "output_type": "error",
     "traceback": [
      "\u001b[1;31m---------------------------------------------------------------------------\u001b[0m",
      "\u001b[1;31mTypeError\u001b[0m                                 Traceback (most recent call last)",
      "\u001b[1;32mC:\\Users\\LAPCOM~1\\AppData\\Local\\Temp/ipykernel_10064/1502541885.py\u001b[0m in \u001b[0;36m<module>\u001b[1;34m\u001b[0m\n\u001b[1;32m----> 1\u001b[1;33m \u001b[0mprint\u001b[0m\u001b[1;33m(\u001b[0m\u001b[0mpythonlist1\u001b[0m \u001b[1;33m-\u001b[0m \u001b[0mpythonlist2\u001b[0m\u001b[1;33m)\u001b[0m    \u001b[1;31m#error\u001b[0m\u001b[1;33m\u001b[0m\u001b[1;33m\u001b[0m\u001b[0m\n\u001b[0m",
      "\u001b[1;31mTypeError\u001b[0m: unsupported operand type(s) for -: 'list' and 'list'"
     ]
    }
   ],
   "source": [
    "print(pythonlist1 - pythonlist2)    #error"
   ]
  },
  {
   "cell_type": "code",
   "execution_count": 61,
   "id": "bb75db96",
   "metadata": {},
   "outputs": [
    {
     "name": "stdout",
     "output_type": "stream",
     "text": [
      "[[ -1  -4  -9]\n",
      " [-16 -25 -36]]\n"
     ]
    }
   ],
   "source": [
    "# element wise multiplication \n",
    "print(matrix1 * matrix2)"
   ]
  },
  {
   "cell_type": "code",
   "execution_count": 62,
   "id": "8536a0c8",
   "metadata": {},
   "outputs": [
    {
     "ename": "TypeError",
     "evalue": "can't multiply sequence by non-int of type 'list'",
     "output_type": "error",
     "traceback": [
      "\u001b[1;31m---------------------------------------------------------------------------\u001b[0m",
      "\u001b[1;31mTypeError\u001b[0m                                 Traceback (most recent call last)",
      "\u001b[1;32mC:\\Users\\LAPCOM~1\\AppData\\Local\\Temp/ipykernel_10064/3814909932.py\u001b[0m in \u001b[0;36m<module>\u001b[1;34m\u001b[0m\n\u001b[1;32m----> 1\u001b[1;33m \u001b[0mprint\u001b[0m\u001b[1;33m(\u001b[0m\u001b[0mpythonlist1\u001b[0m \u001b[1;33m*\u001b[0m \u001b[0mpythonlist2\u001b[0m\u001b[1;33m)\u001b[0m  \u001b[1;31m#error\u001b[0m\u001b[1;33m\u001b[0m\u001b[1;33m\u001b[0m\u001b[0m\n\u001b[0m",
      "\u001b[1;31mTypeError\u001b[0m: can't multiply sequence by non-int of type 'list'"
     ]
    }
   ],
   "source": [
    "print(pythonlist1 * pythonlist2)  #error"
   ]
  },
  {
   "cell_type": "code",
   "execution_count": 63,
   "id": "31d6041e",
   "metadata": {},
   "outputs": [
    {
     "name": "stdout",
     "output_type": "stream",
     "text": [
      "[[-1. -1. -1.]\n",
      " [-1. -1. -1.]]\n"
     ]
    }
   ],
   "source": [
    "# element wise division\n",
    "print(matrix1 / matrix2)  #float"
   ]
  },
  {
   "cell_type": "code",
   "execution_count": 64,
   "id": "b6a06f31",
   "metadata": {},
   "outputs": [
    {
     "name": "stdout",
     "output_type": "stream",
     "text": [
      "[[-1 -1 -1]\n",
      " [-1 -1 -1]]\n"
     ]
    }
   ],
   "source": [
    "print(matrix1 // matrix2)  # int"
   ]
  },
  {
   "cell_type": "code",
   "execution_count": 65,
   "id": "85bfd23b",
   "metadata": {},
   "outputs": [
    {
     "ename": "TypeError",
     "evalue": "unsupported operand type(s) for /: 'list' and 'list'",
     "output_type": "error",
     "traceback": [
      "\u001b[1;31m---------------------------------------------------------------------------\u001b[0m",
      "\u001b[1;31mTypeError\u001b[0m                                 Traceback (most recent call last)",
      "\u001b[1;32mC:\\Users\\LAPCOM~1\\AppData\\Local\\Temp/ipykernel_10064/1193621187.py\u001b[0m in \u001b[0;36m<module>\u001b[1;34m\u001b[0m\n\u001b[1;32m----> 1\u001b[1;33m \u001b[0mprint\u001b[0m\u001b[1;33m(\u001b[0m\u001b[0mpythonlist1\u001b[0m \u001b[1;33m/\u001b[0m \u001b[0mpythonlist2\u001b[0m\u001b[1;33m)\u001b[0m  \u001b[1;31m# error\u001b[0m\u001b[1;33m\u001b[0m\u001b[1;33m\u001b[0m\u001b[0m\n\u001b[0m",
      "\u001b[1;31mTypeError\u001b[0m: unsupported operand type(s) for /: 'list' and 'list'"
     ]
    }
   ],
   "source": [
    "print(pythonlist1 / pythonlist2)  # error"
   ]
  },
  {
   "cell_type": "code",
   "execution_count": 73,
   "id": "9c79570c",
   "metadata": {},
   "outputs": [
    {
     "data": {
      "text/plain": [
       "<numpy.nditer at 0x23a0edf1350>"
      ]
     },
     "execution_count": 73,
     "metadata": {},
     "output_type": "execute_result"
    }
   ],
   "source": [
    "np.nditer(matrix1)"
   ]
  },
  {
   "cell_type": "code",
   "execution_count": 71,
   "id": "b3b4e8e7",
   "metadata": {},
   "outputs": [
    {
     "name": "stdout",
     "output_type": "stream",
     "text": [
      "(2, 3)\n"
     ]
    }
   ],
   "source": []
  },
  {
   "cell_type": "code",
   "execution_count": 72,
   "id": "08e46426",
   "metadata": {},
   "outputs": [
    {
     "name": "stdout",
     "output_type": "stream",
     "text": [
      "(2, 3)\n"
     ]
    }
   ],
   "source": []
  },
  {
   "cell_type": "code",
   "execution_count": null,
   "id": "0669ca8c",
   "metadata": {},
   "outputs": [],
   "source": []
  }
 ],
 "metadata": {
  "kernelspec": {
   "display_name": "Python 3 (ipykernel)",
   "language": "python",
   "name": "python3"
  },
  "language_info": {
   "codemirror_mode": {
    "name": "ipython",
    "version": 3
   },
   "file_extension": ".py",
   "mimetype": "text/x-python",
   "name": "python",
   "nbconvert_exporter": "python",
   "pygments_lexer": "ipython3",
   "version": "3.9.7"
  }
 },
 "nbformat": 4,
 "nbformat_minor": 5
}
